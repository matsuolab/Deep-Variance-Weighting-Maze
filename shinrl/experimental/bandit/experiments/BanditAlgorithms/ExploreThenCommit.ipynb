{
 "cells": [
  {
   "cell_type": "code",
   "execution_count": 1,
   "id": "e11b936d",
   "metadata": {},
   "outputs": [],
   "source": [
    "from tqdm import tqdm\n",
    "from functools import partialmethod\n",
    "tqdm.__init__ = partialmethod(tqdm.__init__, disable=True)  # Disable verbose tqdm output"
   ]
  },
  {
   "cell_type": "markdown",
   "id": "384720c5",
   "metadata": {},
   "source": [
    "# Explore-Then-Commit (ETC) Algorithm\n",
    "\n",
    "See Chapter 6 in [Bandit Algorithms](https://tor-lattimore.com/downloads/book/book.pdf)\n",
    "\n",
    "The ETC algorithm first plays each arm a fixed number of times and then exploits by committing to the best arm.\n",
    "\n",
    "At round t, the ETC algorithm chooses an action as:\n",
    "\n",
    "$A_{t}=\\left\\{\\begin{array}{ll}(t \\bmod k)+1, & \\text { if } t \\leq m k \\\\ \\operatorname{argmax}_{i} \\hat{\\mu}_{i}(m k), & t>m k\\end{array}\\right.$,\n",
    "\n",
    "where \n",
    "* $m$ is the # of round the algorithm explores. The optimal $m$ is $m^*=\\max \\left\\{1,\\lceil\\frac{4}{\\Delta^{2}} \\log \\left(\\frac{n \\Delta^{2}}{4}\\right)\\rceil\\right\\}$.\n",
    "* $k$ is the # of actions \n",
    "* $\\hat{\\mu}_{i}(t)=\\frac{1}{T_{i}(t)} \\sum_{s=1}^{t} \\mathbb{I}\\left\\{A_{s}=i\\right\\} X_{s}$ is the average reward received from arm $i$ after round $t$."
   ]
  },
  {
   "cell_type": "markdown",
   "id": "c3aa241d",
   "metadata": {},
   "source": [
    "With any 1-subgaussian bandit, the ETC algorithm with $m^*$ has the following regret bound (see Eq.(6.6)):\n",
    "\n",
    "$R_{n} \\leq \\min \\left\\{n \\Delta, \\Delta+\\frac{4}{\\Delta}\\left(1+\\max \\left\\{0, \\log \\left(\\frac{n \\Delta^{2}}{4}\\right)\\right\\}\\right)\\right\\}$,\n",
    "\n",
    "where \n",
    "* $\\Delta$ is the suboptimality gap \n",
    "* $n$ is the horizon."
   ]
  },
  {
   "cell_type": "code",
   "execution_count": 2,
   "id": "2e58c7b0",
   "metadata": {},
   "outputs": [
    {
     "name": "stderr",
     "output_type": "stream",
     "text": [
      "WARNING:absl:No GPU/TPU found, falling back to CPU. (Set TF_CPP_MIN_LOG_LEVEL=0 and rerun for more info.)\n"
     ]
    }
   ],
   "source": [
    "import numpy as np\n",
    "from shinrl import GaussianBandit \n",
    "from shinrl import ExploreThenCommitSolver as EtcSolver"
   ]
  },
  {
   "cell_type": "code",
   "execution_count": 5,
   "id": "23d0674c",
   "metadata": {
    "scrolled": true
   },
   "outputs": [
    {
     "name": "stderr",
     "output_type": "stream",
     "text": [
      "\u001b[2m2022-01-04T23:08:46.504084Z\u001b[0m \u001b[1mset_config is called.         \u001b[0m \u001b[36mconfig\u001b[0m=\u001b[35m{'seed': 0, 'discount': 0.99, 'eval_trials': 10, 'eval_interval': 100, 'add_interval': 100, 'steps_per_epoch': 1000, 'verbose': True, 'explore_round': 10}\u001b[0m \u001b[36menv_id\u001b[0m=\u001b[35mNone\u001b[0m \u001b[36msolver_id\u001b[0m=\u001b[35mMixedSolver-2\u001b[0m\n",
      "\u001b[2m2022-01-04T23:08:46.504598Z\u001b[0m \u001b[1mset_env is called.            \u001b[0m \u001b[36menv_id\u001b[0m=\u001b[35m0\u001b[0m \u001b[36msolver_id\u001b[0m=\u001b[35mMixedSolver-2\u001b[0m\n",
      "\u001b[2m2022-01-04T23:08:46.506235Z\u001b[0m \u001b[1mSolver is initialized.        \u001b[0m \u001b[36menv_id\u001b[0m=\u001b[35m0\u001b[0m \u001b[36mmethods\u001b[0m=\u001b[35m['BaseSolver.__init__', 'ExploreThenCommitSolver.act', 'History.add_scalar', 'BanditEvalMixIn.evaluate', 'History.init_history', 'BanditEvalMixIn.initialize', 'History.load', 'ExploreThenCommitSolver.make_mixins', 'History.recent_summary', 'BaseSolver.run', 'History.save', 'BaseSolver.seed', 'History.set_config', 'BaseSolver.set_env', 'ExploreThenCommitSolver.step', 'BanditEvalMixIn.update_regret']\u001b[0m \u001b[36mmixins\u001b[0m=\u001b[35m[<class 'shinrl.solvers.bandit.base_mixin.BanditEvalMixIn'>, <class 'shinrl.solvers.bandit.explore_then_commit_solver.ExploreThenCommitSolver'>]\u001b[0m \u001b[36msolver_id\u001b[0m=\u001b[35mMixedSolver-2\u001b[0m\n"
     ]
    }
   ],
   "source": [
    "n_step = 1000\n",
    "env = GaussianBandit(np.zeros(2), np.ones(2))\n",
    "config = EtcSolver.DefaultConfig()\n",
    "mixins = EtcSolver.make_mixins(env, config)\n",
    "solver = EtcSolver.factory(env, config, mixins)\n",
    "\n",
    "\n",
    "def calc_regret(gap, m, n_eval=50):\n",
    "    env.rew_mean = np.array([0.0, -gap])\n",
    "    config = EtcSolver.DefaultConfig(verbose=False, steps_per_epoch=n_step, explore_round=m, add_interval=1)\n",
    "    \n",
    "    regret = 0\n",
    "    for seed in range(n_eval):\n",
    "        config.seed = seed\n",
    "        solver.initialize(env, config)\n",
    "        solver.run()\n",
    "        regret += solver.scalars[\"Regret\"][\"y\"][-1]\n",
    "    return regret / n_eval"
   ]
  },
  {
   "cell_type": "code",
   "execution_count": 10,
   "id": "c08ed9fa",
   "metadata": {
    "scrolled": true
   },
   "outputs": [
    {
     "name": "stdout",
     "output_type": "stream",
     "text": [
      "Evaluating regrets of: gap==0.001\n"
     ]
    },
    {
     "name": "stderr",
     "output_type": "stream",
     "text": [
      "/home/rl-dqn/miniconda3/envs/shinrl-jax/lib/python3.8/site-packages/gym/logger.py:34: UserWarning: WARN: Box bound precision lowered by casting to float64\n",
      "  warnings.warn(colorize(\"%s: %s\" % (\"WARN\", msg % args), \"yellow\"))\n"
     ]
    },
    {
     "name": "stdout",
     "output_type": "stream",
     "text": [
      "Evaluating regrets of: gap==0.05357894736842105\n",
      "Evaluating regrets of: gap==0.1061578947368421\n",
      "Evaluating regrets of: gap==0.15873684210526315\n",
      "Evaluating regrets of: gap==0.2113157894736842\n",
      "Evaluating regrets of: gap==0.26389473684210524\n",
      "Evaluating regrets of: gap==0.3164736842105263\n",
      "Evaluating regrets of: gap==0.36905263157894735\n",
      "Evaluating regrets of: gap==0.4216315789473684\n",
      "Evaluating regrets of: gap==0.47421052631578947\n",
      "Evaluating regrets of: gap==0.5267894736842105\n",
      "Evaluating regrets of: gap==0.5793684210526315\n",
      "Evaluating regrets of: gap==0.6319473684210526\n",
      "Evaluating regrets of: gap==0.6845263157894736\n",
      "Evaluating regrets of: gap==0.7371052631578947\n",
      "Evaluating regrets of: gap==0.7896842105263158\n",
      "Evaluating regrets of: gap==0.8422631578947368\n",
      "Evaluating regrets of: gap==0.8948421052631579\n",
      "Evaluating regrets of: gap==0.9474210526315789\n",
      "Evaluating regrets of: gap==1.0\n"
     ]
    }
   ],
   "source": [
    "from collections import defaultdict\n",
    "gaps = np.linspace(0.001, 1.0, 20)\n",
    "regrets = defaultdict(list)\n",
    "\n",
    "for gap in gaps:\n",
    "    print(f\"Evaluating regrets of: gap=={gap}\")\n",
    "    m = max(1, np.ceil(4 / (gap ** 2) * np.log(n_step * (gap ** 2) / 4)))  # See Eq.(6.5)\n",
    "    regrets[\"optimal\"].append(calc_regret(gap, m))\n",
    "    for m in [25, 50, 75, 100]:\n",
    "        regrets[m].append(calc_regret(gap, m))"
   ]
  },
  {
   "cell_type": "code",
   "execution_count": 11,
   "id": "307a21ce",
   "metadata": {},
   "outputs": [],
   "source": [
    "upper_bound = np.minimum(n_step * gaps, gaps + 4 / gaps * (1 + np.maximum(0, np.log(n_step * (gaps ** 2) / 4))))"
   ]
  },
  {
   "cell_type": "code",
   "execution_count": 12,
   "id": "ac2fa4bc",
   "metadata": {},
   "outputs": [
    {
     "data": {
      "text/plain": [
       "<matplotlib.legend.Legend at 0x7fd61c229850>"
      ]
     },
     "execution_count": 12,
     "metadata": {},
     "output_type": "execute_result"
    },
    {
     "data": {
      "image/png": "[encoded data removed]",
      "text/plain": [
       "<Figure size 432x288 with 1 Axes>"
      ]
     },
     "metadata": {
      "needs_background": "light"
     },
     "output_type": "display_data"
    }
   ],
   "source": [
    "import matplotlib.pyplot as plt\n",
    "\n",
    "plt.plot(gaps, regrets[\"optimal\"], label=\"ETC ($m^*$)\")\n",
    "for m in [25, 50, 75, 100]:\n",
    "    plt.plot(gaps, regrets[m], label=f\"ETC (m={m})\")\n",
    "plt.plot(gaps, upper_bound, label=\"UpperBound\")\n",
    "plt.legend()"
   ]
  },
  {
   "cell_type": "markdown",
   "id": "c6c43f4f",
   "metadata": {},
   "source": [
    "**Note:**\n",
    "The optimal $m^*$ depends on both the suboptimality gap $\\delta$ and the horizon $n$.\n",
    "While the horizon is sometimes known in advance, it is seldom reasonable to assume the knowledge of the suboptimality gap.\n",
    "On the other hand, the Upper Confidence Bound algorithm does not depend on the advanced knowledge of the gap and even the horizon."
   ]
  },
  {
   "cell_type": "code",
   "execution_count": null,
   "id": "11b2d4d0",
   "metadata": {},
   "outputs": [],
   "source": []
  }
 ],
 "metadata": {
  "kernelspec": {
   "display_name": "Python 3 (ipykernel)",
   "language": "python",
   "name": "python3"
  },
  "language_info": {
   "codemirror_mode": {
    "name": "ipython",
    "version": 3
   },
   "file_extension": ".py",
   "mimetype": "text/x-python",
   "name": "python",
   "nbconvert_exporter": "python",
   "pygments_lexer": "ipython3",
   "version": "3.8.11"
  }
 },
 "nbformat": 4,
 "nbformat_minor": 5
}
