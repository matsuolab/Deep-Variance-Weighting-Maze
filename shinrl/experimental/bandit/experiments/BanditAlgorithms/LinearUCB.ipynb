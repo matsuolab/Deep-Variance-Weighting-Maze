{
 "cells": [
  {
   "cell_type": "code",
   "execution_count": 3,
   "id": "e11b936d",
   "metadata": {},
   "outputs": [],
   "source": [
    "from tqdm import tqdm\n",
    "from functools import partialmethod\n",
    "tqdm.__init__ = partialmethod(tqdm.__init__, disable=True)  # Disable verbose tqdm output"
   ]
  },
  {
   "cell_type": "markdown",
   "id": "384720c5",
   "metadata": {},
   "source": [
    "# Upper Confidence Bound (UCB) Algorithm\n",
    "\n",
    "See Chapter 7 in [Bandit Algorithms](https://tor-lattimore.com/downloads/book/book.pdf)\n",
    "\n",
    "The UCB algorithm is based on the principle of **optimism in the face of uncertainty**.\n",
    "At round t, UCB algorithm chooses action as:\n",
    "\n",
    "$$\n",
    "A_{t}=\\operatorname{argmax}_{i} \\mathrm{UCB}_{i}(t-1, \\delta)\n",
    "$$\n",
    "where\n",
    "$$\n",
    "\\mathrm{UCB}_{i}(t-1, \\delta)=\\left\\{\\begin{array}{ll}\n",
    "\\infty & \\text { if } T_{i}(t-1)=0 \\\\\n",
    "\\hat{\\mu}_{i}(t-1)+\\sqrt{\\frac{2 \\log (1 / \\delta)}{T_{i}(t-1)}} & \\text { otherwise }\n",
    "\\end{array}\\right.\n",
    "$$\n",
    "\n",
    "* $\\delta$ is the confidence level of UCB. There are several variants of UCB algorithms that have different $\\delta$ designs. $\\delta$ should be small enough to ensure optimism with high probability, but not so large that suboptimal arms are explored excessively.\n",
    "* $\\hat{\\mu}_{i}(t)=\\frac{1}{T_{i}(t)} \\sum_{s=1}^{t} \\mathbb{I}\\left\\{A_{s}=i\\right\\} X_{s}$ is the average reward received from arm $i$ after round $t$"
   ]
  },
  {
   "cell_type": "markdown",
   "id": "9291a252",
   "metadata": {},
   "source": [
    "**Regret Bound**\n",
    "\n",
    "With any 1-subgaussian bandit, the UCB algorithm with $\\delta=1/n^2$ has the following regret bound (see Theorem 7.1 and 7.2):\n",
    "\n",
    "$$\n",
    "R_{n} \\leq 3 \\sum_{i=1}^{k} \\Delta_{i}+\\sum_{i: \\Delta_{i}>0} \\frac{16 \\log (n)}{\\Delta_{i}}\n",
    "$$\n",
    "\n",
    "or\n",
    "\n",
    "$$\n",
    "R_{n} \\leq 8 \\sqrt{n k \\log (n)}+3 \\sum_{i=1}^{k} \\Delta_{i}\n",
    "$$\n",
    "\n",
    "where \n",
    "* $\\Delta$ is the suboptimality gap \n",
    "* $n$ is the horizon.\n",
    "* $k$ is the # of arms."
   ]
  },
  {
   "cell_type": "code",
   "execution_count": 4,
   "id": "2e58c7b0",
   "metadata": {},
   "outputs": [
    {
     "name": "stderr",
     "output_type": "stream",
     "text": [
      "WARNING:absl:No GPU/TPU found, falling back to CPU. (Set TF_CPP_MIN_LOG_LEVEL=0 and rerun for more info.)\n"
     ]
    }
   ],
   "source": [
    "import numpy as np\n",
    "from shinrl import GaussianBandit \n",
    "from shinrl import UcbSolver"
   ]
  },
  {
   "cell_type": "code",
   "execution_count": 5,
   "id": "23d0674c",
   "metadata": {
    "scrolled": true
   },
   "outputs": [
    {
     "name": "stderr",
     "output_type": "stream",
     "text": [
      "/home/rl-dqn/miniconda3/envs/shinrl-jax/lib/python3.8/site-packages/gym/logger.py:34: UserWarning: \u001b[33mWARN: Box bound precision lowered by casting to float64\u001b[0m\n",
      "  warnings.warn(colorize(\"%s: %s\" % (\"WARN\", msg % args), \"yellow\"))\n",
      "\u001b[2m2022-01-04T23:48:03.054591Z\u001b[0m \u001b[1mset_config is called.         \u001b[0m \u001b[36mconfig\u001b[0m=\u001b[35m{'seed': 0, 'discount': 0.99, 'eval_trials': 10, 'eval_interval': 100, 'add_interval': 100, 'steps_per_epoch': 1000, 'verbose': True, 'ucb_type': <UCB_TYPE.vanilla: 1>}\u001b[0m \u001b[36menv_id\u001b[0m=\u001b[35mNone\u001b[0m \u001b[36msolver_id\u001b[0m=\u001b[35mMixedSolver-0\u001b[0m\n",
      "\u001b[2m2022-01-04T23:48:03.055098Z\u001b[0m \u001b[1mset_env is called.            \u001b[0m \u001b[36menv_id\u001b[0m=\u001b[35m0\u001b[0m \u001b[36msolver_id\u001b[0m=\u001b[35mMixedSolver-0\u001b[0m\n",
      "\u001b[2m2022-01-04T23:48:03.085513Z\u001b[0m \u001b[1mSolver is initialized.        \u001b[0m \u001b[36menv_id\u001b[0m=\u001b[35m0\u001b[0m \u001b[36mmethods\u001b[0m=\u001b[35m['BaseSolver.__init__', 'UcbSolver.act', 'History.add_scalar', 'VanillaUcbMixIn.calc_ucb', 'BanditEvalMixIn.evaluate', 'History.init_history', 'BanditEvalMixIn.initialize', 'History.load', 'UcbSolver.make_mixins', 'History.recent_summary', 'BaseSolver.run', 'History.save', 'BaseSolver.seed', 'History.set_config', 'BaseSolver.set_env', 'UcbSolver.step', 'BanditEvalMixIn.update_regret']\u001b[0m \u001b[36mmixins\u001b[0m=\u001b[35m[<class 'shinrl.solvers.bandit.ucb_solver.VanillaUcbMixIn'>, <class 'shinrl.solvers.bandit.base_mixin.BanditEvalMixIn'>, <class 'shinrl.solvers.bandit.ucb_solver.UcbSolver'>]\u001b[0m \u001b[36msolver_id\u001b[0m=\u001b[35mMixedSolver-0\u001b[0m\n"
     ]
    }
   ],
   "source": [
    "# delta == 1 / n^2\n",
    "n_step = 1000\n",
    "env = GaussianBandit(np.zeros(2), np.ones(2))\n",
    "config = UcbSolver.DefaultConfig(ucb_type=\"vanilla\")\n",
    "mixins = UcbSolver.make_mixins(env, config)\n",
    "solver = UcbSolver.factory(env, config, mixins)\n",
    "\n",
    "\n",
    "def calc_regret(gap, n_eval=50):\n",
    "    env.rew_mean = np.array([0.0, -gap])\n",
    "    config = UcbSolver.DefaultConfig(\n",
    "        ucb_type=\"vanilla\",\n",
    "        verbose=False, \n",
    "        steps_per_epoch=n_step, \n",
    "        add_interval=1, \n",
    "    )\n",
    "    \n",
    "    regret = 0\n",
    "    for seed in range(n_eval):\n",
    "        config.seed = seed\n",
    "        solver.initialize(env, config)\n",
    "        solver.run()\n",
    "        regret += solver.scalars[\"Regret\"][\"y\"][-1]\n",
    "    return regret / n_eval"
   ]
  },
  {
   "cell_type": "code",
   "execution_count": 6,
   "id": "68c9e68c",
   "metadata": {},
   "outputs": [
    {
     "data": {
      "text/plain": [
       "[shinrl.solvers.bandit.ucb_solver.VanillaUcbMixIn,\n",
       " shinrl.solvers.bandit.base_mixin.BanditEvalMixIn,\n",
       " shinrl.solvers.bandit.ucb_solver.UcbSolver]"
      ]
     },
     "execution_count": 6,
     "metadata": {},
     "output_type": "execute_result"
    }
   ],
   "source": [
    "solver.mixins"
   ]
  },
  {
   "cell_type": "code",
   "execution_count": 7,
   "id": "c08ed9fa",
   "metadata": {
    "scrolled": true
   },
   "outputs": [
    {
     "name": "stdout",
     "output_type": "stream",
     "text": [
      "Evaluating regrets of: gap==0.001\n"
     ]
    },
    {
     "name": "stderr",
     "output_type": "stream",
     "text": [
      "/home/rl-dqn/ShinRL-JAX/shinrl/solvers/bandit/ucb_solver.py:84: RuntimeWarning: divide by zero encountered in true_divide\n",
      "  ucb = np.where(n_acts == 0, np.infty, rew_avg + np.sqrt(4 * np.log(n) / n_acts))\n"
     ]
    },
    {
     "name": "stdout",
     "output_type": "stream",
     "text": [
      "Evaluating regrets of: gap==0.05357894736842105\n",
      "Evaluating regrets of: gap==0.1061578947368421\n",
      "Evaluating regrets of: gap==0.15873684210526315\n",
      "Evaluating regrets of: gap==0.2113157894736842\n",
      "Evaluating regrets of: gap==0.26389473684210524\n",
      "Evaluating regrets of: gap==0.3164736842105263\n",
      "Evaluating regrets of: gap==0.36905263157894735\n",
      "Evaluating regrets of: gap==0.4216315789473684\n",
      "Evaluating regrets of: gap==0.47421052631578947\n",
      "Evaluating regrets of: gap==0.5267894736842105\n",
      "Evaluating regrets of: gap==0.5793684210526315\n",
      "Evaluating regrets of: gap==0.6319473684210526\n",
      "Evaluating regrets of: gap==0.6845263157894736\n",
      "Evaluating regrets of: gap==0.7371052631578947\n",
      "Evaluating regrets of: gap==0.7896842105263158\n",
      "Evaluating regrets of: gap==0.8422631578947368\n",
      "Evaluating regrets of: gap==0.8948421052631579\n",
      "Evaluating regrets of: gap==0.9474210526315789\n",
      "Evaluating regrets of: gap==1.0\n"
     ]
    }
   ],
   "source": [
    "gaps = np.linspace(0.001, 1.0, 20)\n",
    "regrets_vanilla = []\n",
    "\n",
    "for gap in gaps:\n",
    "    print(f\"Evaluating regrets of: gap=={gap}\")\n",
    "    regrets_vanilla.append(calc_regret(gap))"
   ]
  },
  {
   "cell_type": "code",
   "execution_count": 8,
   "id": "2188b8f4",
   "metadata": {
    "scrolled": true
   },
   "outputs": [
    {
     "data": {
      "text/plain": [
       "<matplotlib.legend.Legend at 0x7f2f68685760>"
      ]
     },
     "execution_count": 8,
     "metadata": {},
     "output_type": "execute_result"
    },
    {
     "data": {
      "image/png": "[encoded data removed]",
      "text/plain": [
       "<Figure size 432x288 with 1 Axes>"
      ]
     },
     "metadata": {
      "needs_background": "light"
     },
     "output_type": "display_data"
    }
   ],
   "source": [
    "import matplotlib.pyplot as plt\n",
    "\n",
    "plt.plot(gaps, regrets_vanilla, label=\"UCB ($\\delta=1/n^2$)\")\n",
    "plt.legend()"
   ]
  },
  {
   "cell_type": "markdown",
   "id": "d1883464",
   "metadata": {},
   "source": [
    "# UCB Algorithm: Asymptotic Optimality\n",
    "\n",
    "See Chapter 8 in [Bandit Algorithms](https://tor-lattimore.com/downloads/book/book.pdf)\n",
    "\n",
    "In the introduced UCB algorithm, the confidence level depended on the horizon.\n",
    "The bound of the following algorithm has the same order but has the smaller leading constant which governs the asymptotic rate of growth of regret."
   ]
  },
  {
   "cell_type": "code",
   "execution_count": 9,
   "id": "f30639ec",
   "metadata": {
    "scrolled": true
   },
   "outputs": [
    {
     "name": "stderr",
     "output_type": "stream",
     "text": [
      "\u001b[2m2022-01-04T23:49:12.575619Z\u001b[0m \u001b[1mset_config is called.         \u001b[0m \u001b[36mconfig\u001b[0m=\u001b[35m{'seed': 0, 'discount': 0.99, 'eval_trials': 10, 'eval_interval': 100, 'add_interval': 100, 'steps_per_epoch': 1000, 'verbose': True, 'ucb_type': <UCB_TYPE.asymptotic_optimal: 2>}\u001b[0m \u001b[36menv_id\u001b[0m=\u001b[35mNone\u001b[0m \u001b[36msolver_id\u001b[0m=\u001b[35mMixedSolver-1\u001b[0m\n",
      "\u001b[2m2022-01-04T23:49:12.577573Z\u001b[0m \u001b[1mset_env is called.            \u001b[0m \u001b[36menv_id\u001b[0m=\u001b[35m0\u001b[0m \u001b[36msolver_id\u001b[0m=\u001b[35mMixedSolver-1\u001b[0m\n",
      "/home/rl-dqn/miniconda3/envs/shinrl-jax/lib/python3.8/site-packages/gym/logger.py:34: UserWarning: WARN: Box bound precision lowered by casting to float64\n",
      "  warnings.warn(colorize(\"%s: %s\" % (\"WARN\", msg % args), \"yellow\"))\n",
      "\u001b[2m2022-01-04T23:49:12.583171Z\u001b[0m \u001b[1mSolver is initialized.        \u001b[0m \u001b[36menv_id\u001b[0m=\u001b[35m0\u001b[0m \u001b[36mmethods\u001b[0m=\u001b[35m['BaseSolver.__init__', 'UcbSolver.act', 'History.add_scalar', 'AsymptoticOptimalUcbMixIn.calc_ucb', 'BanditEvalMixIn.evaluate', 'History.init_history', 'BanditEvalMixIn.initialize', 'History.load', 'UcbSolver.make_mixins', 'History.recent_summary', 'BaseSolver.run', 'History.save', 'BaseSolver.seed', 'History.set_config', 'BaseSolver.set_env', 'UcbSolver.step', 'BanditEvalMixIn.update_regret']\u001b[0m \u001b[36mmixins\u001b[0m=\u001b[35m[<class 'shinrl.solvers.bandit.ucb_solver.AsymptoticOptimalUcbMixIn'>, <class 'shinrl.solvers.bandit.base_mixin.BanditEvalMixIn'>, <class 'shinrl.solvers.bandit.ucb_solver.UcbSolver'>]\u001b[0m \u001b[36msolver_id\u001b[0m=\u001b[35mMixedSolver-1\u001b[0m\n"
     ]
    }
   ],
   "source": [
    "config = UcbSolver.DefaultConfig(ucb_type=\"asymptotic_optimal\")\n",
    "mixins = UcbSolver.make_mixins(env, config)\n",
    "solver = UcbSolver.factory(env, config, mixins)\n",
    "\n",
    "def calc_regret(gap, n_eval=50):\n",
    "    env.rew_mean = np.array([0.0, -gap])\n",
    "    config = UcbSolver.DefaultConfig(\n",
    "        ucb_type=\"asymptotic_optimal\",\n",
    "        verbose=False, \n",
    "        steps_per_epoch=n_step, \n",
    "        add_interval=1, \n",
    "    )\n",
    "    \n",
    "    regret = 0\n",
    "    for seed in range(n_eval):\n",
    "        config.seed = seed\n",
    "        solver.initialize(env, config)\n",
    "        solver.run()\n",
    "        regret += solver.scalars[\"Regret\"][\"y\"][-1]\n",
    "    return regret / n_eval"
   ]
  },
  {
   "cell_type": "code",
   "execution_count": 10,
   "id": "a5014bb0",
   "metadata": {
    "scrolled": true
   },
   "outputs": [
    {
     "data": {
      "text/plain": [
       "[shinrl.solvers.bandit.ucb_solver.AsymptoticOptimalUcbMixIn,\n",
       " shinrl.solvers.bandit.base_mixin.BanditEvalMixIn,\n",
       " shinrl.solvers.bandit.ucb_solver.UcbSolver]"
      ]
     },
     "execution_count": 10,
     "metadata": {},
     "output_type": "execute_result"
    }
   ],
   "source": [
    "solver.mixins"
   ]
  },
  {
   "cell_type": "code",
   "execution_count": 11,
   "id": "f462637a",
   "metadata": {
    "scrolled": true
   },
   "outputs": [
    {
     "name": "stdout",
     "output_type": "stream",
     "text": [
      "Evaluating regrets of: gap==0.001\n"
     ]
    },
    {
     "name": "stderr",
     "output_type": "stream",
     "text": [
      "/home/rl-dqn/ShinRL-JAX/shinrl/solvers/bandit/ucb_solver.py:99: RuntimeWarning: invalid value encountered in true_divide\n",
      "  n_acts == 0, np.infty, rew_avg + np.sqrt(2 * np.log(f_t) / n_acts)\n",
      "/home/rl-dqn/ShinRL-JAX/shinrl/solvers/bandit/ucb_solver.py:99: RuntimeWarning: divide by zero encountered in true_divide\n",
      "  n_acts == 0, np.infty, rew_avg + np.sqrt(2 * np.log(f_t) / n_acts)\n"
     ]
    },
    {
     "name": "stdout",
     "output_type": "stream",
     "text": [
      "Evaluating regrets of: gap==0.05357894736842105\n",
      "Evaluating regrets of: gap==0.1061578947368421\n",
      "Evaluating regrets of: gap==0.15873684210526315\n",
      "Evaluating regrets of: gap==0.2113157894736842\n",
      "Evaluating regrets of: gap==0.26389473684210524\n",
      "Evaluating regrets of: gap==0.3164736842105263\n",
      "Evaluating regrets of: gap==0.36905263157894735\n",
      "Evaluating regrets of: gap==0.4216315789473684\n",
      "Evaluating regrets of: gap==0.47421052631578947\n",
      "Evaluating regrets of: gap==0.5267894736842105\n",
      "Evaluating regrets of: gap==0.5793684210526315\n",
      "Evaluating regrets of: gap==0.6319473684210526\n",
      "Evaluating regrets of: gap==0.6845263157894736\n",
      "Evaluating regrets of: gap==0.7371052631578947\n",
      "Evaluating regrets of: gap==0.7896842105263158\n",
      "Evaluating regrets of: gap==0.8422631578947368\n",
      "Evaluating regrets of: gap==0.8948421052631579\n",
      "Evaluating regrets of: gap==0.9474210526315789\n",
      "Evaluating regrets of: gap==1.0\n"
     ]
    }
   ],
   "source": [
    "gaps = np.linspace(0.001, 1.0, 20)\n",
    "regrets_asymptotic = []\n",
    "\n",
    "for gap in gaps:\n",
    "    print(f\"Evaluating regrets of: gap=={gap}\")\n",
    "    regrets_asymptotic.append(calc_regret(gap))"
   ]
  },
  {
   "cell_type": "code",
   "execution_count": 12,
   "id": "c99eb03d",
   "metadata": {
    "scrolled": false
   },
   "outputs": [
    {
     "data": {
      "text/plain": [
       "<matplotlib.legend.Legend at 0x7f2f607e2e50>"
      ]
     },
     "execution_count": 12,
     "metadata": {},
     "output_type": "execute_result"
    },
    {
     "data": {
      "image/png": "[encoded data removed]",
      "text/plain": [
       "<Figure size 432x288 with 1 Axes>"
      ]
     },
     "metadata": {
      "needs_background": "light"
     },
     "output_type": "display_data"
    }
   ],
   "source": [
    "import matplotlib.pyplot as plt\n",
    "\n",
    "plt.plot(gaps, regrets_vanilla, label=\"UCB ($\\delta=1/n^2$)\")\n",
    "plt.plot(gaps, regrets_asymptotic, label=\"UCB ($\\delta=1/(1 + t\\log^2(t))$)\")\n",
    "plt.legend()"
   ]
  },
  {
   "cell_type": "markdown",
   "id": "00dc0f76",
   "metadata": {},
   "source": [
    "# UCB Algorithm: Minimax Optimality \n",
    "\n",
    "See Chapter 9 in [Bandit Algorithms](https://tor-lattimore.com/downloads/book/book.pdf)\n",
    "\n",
    "The previous two UCB have a worst-case regret of $R_{n}=O(\\sqrt{k n \\log (n)})$.\n",
    "The following UCB variant, `minimax optimal strategy in the stochastic case (MOSS)`, entirely removes the log factor and has a worst-case regret of $R_{n}=O(\\sqrt{k n})$."
   ]
  },
  {
   "cell_type": "code",
   "execution_count": 13,
   "id": "8aa41750",
   "metadata": {
    "scrolled": true
   },
   "outputs": [
    {
     "name": "stderr",
     "output_type": "stream",
     "text": [
      "\u001b[2m2022-01-04T23:55:59.134456Z\u001b[0m \u001b[1mset_config is called.         \u001b[0m \u001b[36mconfig\u001b[0m=\u001b[35m{'seed': 0, 'discount': 0.99, 'eval_trials': 10, 'eval_interval': 100, 'add_interval': 100, 'steps_per_epoch': 1000, 'verbose': True, 'ucb_type': <UCB_TYPE.moss: 3>}\u001b[0m \u001b[36menv_id\u001b[0m=\u001b[35mNone\u001b[0m \u001b[36msolver_id\u001b[0m=\u001b[35mMixedSolver-2\u001b[0m\n",
      "\u001b[2m2022-01-04T23:55:59.135856Z\u001b[0m \u001b[1mset_env is called.            \u001b[0m \u001b[36menv_id\u001b[0m=\u001b[35m0\u001b[0m \u001b[36msolver_id\u001b[0m=\u001b[35mMixedSolver-2\u001b[0m\n",
      "/home/rl-dqn/miniconda3/envs/shinrl-jax/lib/python3.8/site-packages/gym/logger.py:34: UserWarning: WARN: Box bound precision lowered by casting to float64\n",
      "  warnings.warn(colorize(\"%s: %s\" % (\"WARN\", msg % args), \"yellow\"))\n",
      "\u001b[2m2022-01-04T23:55:59.140096Z\u001b[0m \u001b[1mSolver is initialized.        \u001b[0m \u001b[36menv_id\u001b[0m=\u001b[35m0\u001b[0m \u001b[36mmethods\u001b[0m=\u001b[35m['BaseSolver.__init__', 'UcbSolver.act', 'History.add_scalar', 'MossUcbMixIn.calc_ucb', 'BanditEvalMixIn.evaluate', 'History.init_history', 'BanditEvalMixIn.initialize', 'History.load', 'UcbSolver.make_mixins', 'History.recent_summary', 'BaseSolver.run', 'History.save', 'BaseSolver.seed', 'History.set_config', 'BaseSolver.set_env', 'UcbSolver.step', 'BanditEvalMixIn.update_regret']\u001b[0m \u001b[36mmixins\u001b[0m=\u001b[35m[<class 'shinrl.solvers.bandit.ucb_solver.MossUcbMixIn'>, <class 'shinrl.solvers.bandit.base_mixin.BanditEvalMixIn'>, <class 'shinrl.solvers.bandit.ucb_solver.UcbSolver'>]\u001b[0m \u001b[36msolver_id\u001b[0m=\u001b[35mMixedSolver-2\u001b[0m\n"
     ]
    }
   ],
   "source": [
    "config = UcbSolver.DefaultConfig(ucb_type=\"moss\")\n",
    "mixins = UcbSolver.make_mixins(env, config)\n",
    "solver = UcbSolver.factory(env, config, mixins)\n",
    "\n",
    "def calc_regret(gap, n_eval=50):\n",
    "    env.rew_mean = np.array([0.0, -gap])\n",
    "    config = UcbSolver.DefaultConfig(\n",
    "        ucb_type=\"moss\",\n",
    "        verbose=False, \n",
    "        steps_per_epoch=n_step, \n",
    "        add_interval=1, \n",
    "    )\n",
    "    \n",
    "    regret = 0\n",
    "    for seed in range(n_eval):\n",
    "        config.seed = seed\n",
    "        solver.initialize(env, config)\n",
    "        solver.run()\n",
    "        regret += solver.scalars[\"Regret\"][\"y\"][-1]\n",
    "    return regret / n_eval"
   ]
  },
  {
   "cell_type": "code",
   "execution_count": 14,
   "id": "a8ab1f62",
   "metadata": {
    "scrolled": true
   },
   "outputs": [
    {
     "data": {
      "text/plain": [
       "[shinrl.solvers.bandit.ucb_solver.MossUcbMixIn,\n",
       " shinrl.solvers.bandit.base_mixin.BanditEvalMixIn,\n",
       " shinrl.solvers.bandit.ucb_solver.UcbSolver]"
      ]
     },
     "execution_count": 14,
     "metadata": {},
     "output_type": "execute_result"
    }
   ],
   "source": [
    "solver.mixins"
   ]
  },
  {
   "cell_type": "code",
   "execution_count": 15,
   "id": "33c4a204",
   "metadata": {
    "scrolled": true
   },
   "outputs": [
    {
     "name": "stdout",
     "output_type": "stream",
     "text": [
      "Evaluating regrets of: gap==0.001\n"
     ]
    },
    {
     "name": "stderr",
     "output_type": "stream",
     "text": [
      "/home/rl-dqn/ShinRL-JAX/shinrl/solvers/bandit/ucb_solver.py:114: RuntimeWarning: divide by zero encountered in true_divide\n",
      "  log_plus = np.log(np.maximum(1, n / (k * n_acts)))\n"
     ]
    },
    {
     "name": "stdout",
     "output_type": "stream",
     "text": [
      "Evaluating regrets of: gap==0.05357894736842105\n",
      "Evaluating regrets of: gap==0.1061578947368421\n",
      "Evaluating regrets of: gap==0.15873684210526315\n",
      "Evaluating regrets of: gap==0.2113157894736842\n",
      "Evaluating regrets of: gap==0.26389473684210524\n",
      "Evaluating regrets of: gap==0.3164736842105263\n",
      "Evaluating regrets of: gap==0.36905263157894735\n",
      "Evaluating regrets of: gap==0.4216315789473684\n",
      "Evaluating regrets of: gap==0.47421052631578947\n",
      "Evaluating regrets of: gap==0.5267894736842105\n",
      "Evaluating regrets of: gap==0.5793684210526315\n",
      "Evaluating regrets of: gap==0.6319473684210526\n",
      "Evaluating regrets of: gap==0.6845263157894736\n",
      "Evaluating regrets of: gap==0.7371052631578947\n",
      "Evaluating regrets of: gap==0.7896842105263158\n",
      "Evaluating regrets of: gap==0.8422631578947368\n",
      "Evaluating regrets of: gap==0.8948421052631579\n",
      "Evaluating regrets of: gap==0.9474210526315789\n",
      "Evaluating regrets of: gap==1.0\n"
     ]
    }
   ],
   "source": [
    "gaps = np.linspace(0.001, 1.0, 20)\n",
    "regrets_moss = []\n",
    "\n",
    "for gap in gaps:\n",
    "    print(f\"Evaluating regrets of: gap=={gap}\")\n",
    "    regrets_moss.append(calc_regret(gap))"
   ]
  },
  {
   "cell_type": "code",
   "execution_count": 16,
   "id": "4a907ee0",
   "metadata": {
    "scrolled": false
   },
   "outputs": [
    {
     "data": {
      "text/plain": [
       "<matplotlib.legend.Legend at 0x7f2f6872bc40>"
      ]
     },
     "execution_count": 16,
     "metadata": {},
     "output_type": "execute_result"
    },
    {
     "data": {
      "image/png": "[encoded data removed]",
      "text/plain": [
       "<Figure size 432x288 with 1 Axes>"
      ]
     },
     "metadata": {
      "needs_background": "light"
     },
     "output_type": "display_data"
    }
   ],
   "source": [
    "import matplotlib.pyplot as plt\n",
    "\n",
    "plt.plot(gaps, regrets_vanilla, label=\"UCB ($\\delta=1/n^2$)\")\n",
    "plt.plot(gaps, regrets_asymptotic, label=\"UCB ($\\delta=1/(1 + t\\log^2(t))$)\")\n",
    "plt.plot(gaps, regrets_moss, label=\"UCB (MOSS)\")\n",
    "plt.legend()"
   ]
  },
  {
   "cell_type": "code",
   "execution_count": null,
   "id": "76b5e5a8",
   "metadata": {},
   "outputs": [],
   "source": []
  }
 ],
 "metadata": {
  "interpreter": {
   "hash": "39e2177d2aa4361e583ad5ee9717d17fe7cf10f1d16d48b43cf95660392c00d7"
  },
  "kernelspec": {
   "display_name": "Python 3.9.0 ('shinrl')",
   "language": "python",
   "name": "python3"
  },
  "language_info": {
   "codemirror_mode": {
    "name": "ipython",
    "version": 3
   },
   "file_extension": ".py",
   "mimetype": "text/x-python",
   "name": "python",
   "nbconvert_exporter": "python",
   "pygments_lexer": "ipython3",
   "version": "3.9.0"
  }
 },
 "nbformat": 4,
 "nbformat_minor": 5
}
