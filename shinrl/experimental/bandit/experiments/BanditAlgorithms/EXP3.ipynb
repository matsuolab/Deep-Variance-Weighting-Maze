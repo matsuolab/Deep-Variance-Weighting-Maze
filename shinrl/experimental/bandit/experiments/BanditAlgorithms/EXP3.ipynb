{
 "cells": [
  {
   "cell_type": "code",
   "execution_count": 1,
   "id": "e11b936d",
   "metadata": {},
   "outputs": [],
   "source": [
    "from tqdm import tqdm\n",
    "from functools import partialmethod\n",
    "tqdm.__init__ = partialmethod(tqdm.__init__, disable=True)  # Disable verbose tqdm output"
   ]
  },
  {
   "cell_type": "markdown",
   "id": "384720c5",
   "metadata": {},
   "source": [
    "# EXP3 Algorithm\n",
    "\n",
    "See Chapter 11 in [Bandit Algorithms](https://tor-lattimore.com/downloads/book/book.pdf)"
   ]
  },
  {
   "cell_type": "code",
   "execution_count": 9,
   "id": "2e58c7b0",
   "metadata": {},
   "outputs": [],
   "source": [
    "import numpy as np\n",
    "from shinrl import BernoulliBandit \n",
    "from shinrl import Exp3Solver"
   ]
  },
  {
   "cell_type": "code",
   "execution_count": 13,
   "id": "23d0674c",
   "metadata": {
    "scrolled": true
   },
   "outputs": [
    {
     "name": "stderr",
     "output_type": "stream",
     "text": [
      "\u001b[2m2022-01-10T01:54:21.389390Z\u001b[0m \u001b[1mset_config is called.         \u001b[0m \u001b[36mconfig\u001b[0m=\u001b[35m{'seed': 0, 'discount': 0.99, 'eval_trials': 10, 'eval_interval': 100, 'add_interval': 100, 'steps_per_epoch': 1000, 'verbose': True, 'exp3_type': <Exp3_TYPE.vanilla: 1>, 'lr': 0.1}\u001b[0m \u001b[36menv_id\u001b[0m=\u001b[35mNone\u001b[0m \u001b[36msolver_id\u001b[0m=\u001b[35mMixedSolver-2\u001b[0m\n",
      "\u001b[2m2022-01-10T01:54:21.390094Z\u001b[0m \u001b[1mset_env is called.            \u001b[0m \u001b[36menv_id\u001b[0m=\u001b[35m0\u001b[0m \u001b[36msolver_id\u001b[0m=\u001b[35mMixedSolver-2\u001b[0m\n",
      "\u001b[2m2022-01-10T01:54:21.392526Z\u001b[0m \u001b[1mSolver is initialized.        \u001b[0m \u001b[36menv_id\u001b[0m=\u001b[35m0\u001b[0m \u001b[36mmethods\u001b[0m=\u001b[35m['BaseSolver.__init__', 'Exp3Solver._total_rew_to_policy', 'History.add_scalar', 'BanditEvalMixIn.evaluate', 'History.init_history', 'BanditEvalMixIn.initialize', 'History.load', 'Exp3Solver.make_mixins', 'History.recent_summary', 'BaseSolver.run', 'History.save', 'BaseSolver.seed', 'History.set_config', 'BaseSolver.set_env', 'Exp3Solver.step', 'BanditEvalMixIn.update_regret']\u001b[0m \u001b[36mmixins\u001b[0m=\u001b[35m[<class 'shinrl.solvers.bandit._bandit_eval_mixin.BanditEvalMixIn'>, <class 'shinrl.solvers.bandit.exp3_solver.Exp3Solver'>]\u001b[0m \u001b[36msolver_id\u001b[0m=\u001b[35mMixedSolver-2\u001b[0m\n"
     ]
    }
   ],
   "source": [
    "# delta == 1 / n^2\n",
    "n_step = 10000\n",
    "env = BernoulliBandit(np.array([0.5, 0.55]))\n",
    "config = Exp3Solver.DefaultConfig()\n",
    "mixins = Exp3Solver.make_mixins(env, config)\n",
    "solver = Exp3Solver.factory(env, config, mixins)\n",
    "\n",
    "\n",
    "def calc_regret(lr, n_eval=5):\n",
    "    config = Exp3Solver.DefaultConfig(\n",
    "        lr=lr,\n",
    "        verbose=False, \n",
    "        steps_per_epoch=n_step, \n",
    "        add_interval=1, \n",
    "    )\n",
    "    \n",
    "    regret = 0\n",
    "    for seed in range(n_eval):\n",
    "        config.seed = seed\n",
    "        solver.initialize(env, config)\n",
    "        solver.run()\n",
    "        regret += solver.scalars[\"Regret\"][\"y\"][-1]\n",
    "    return regret / n_eval"
   ]
  },
  {
   "cell_type": "code",
   "execution_count": 14,
   "id": "68c9e68c",
   "metadata": {},
   "outputs": [
    {
     "data": {
      "text/plain": [
       "[shinrl.solvers.bandit._bandit_eval_mixin.BanditEvalMixIn,\n",
       " shinrl.solvers.bandit.exp3_solver.Exp3Solver]"
      ]
     },
     "execution_count": 14,
     "metadata": {},
     "output_type": "execute_result"
    }
   ],
   "source": [
    "solver.mixins"
   ]
  },
  {
   "cell_type": "code",
   "execution_count": 15,
   "id": "c08ed9fa",
   "metadata": {
    "scrolled": true
   },
   "outputs": [
    {
     "name": "stdout",
     "output_type": "stream",
     "text": [
      "Evaluating regrets of: lr==0.001\n",
      "Evaluating regrets of: lr==0.012\n",
      "Evaluating regrets of: lr==0.023000000000000003\n",
      "Evaluating regrets of: lr==0.034\n",
      "Evaluating regrets of: lr==0.045000000000000005\n",
      "Evaluating regrets of: lr==0.05600000000000001\n",
      "Evaluating regrets of: lr==0.067\n",
      "Evaluating regrets of: lr==0.07800000000000001\n",
      "Evaluating regrets of: lr==0.08900000000000001\n",
      "Evaluating regrets of: lr==0.1\n"
     ]
    }
   ],
   "source": [
    "lrs = np.linspace(0.001, 0.1, 10)\n",
    "regrets_vanilla = []\n",
    "\n",
    "for lr in lrs:\n",
    "    print(f\"Evaluating regrets of: lr=={lr}\")\n",
    "    regrets_vanilla.append(calc_regret(lr))"
   ]
  },
  {
   "cell_type": "code",
   "execution_count": 16,
   "id": "2188b8f4",
   "metadata": {
    "scrolled": true
   },
   "outputs": [
    {
     "data": {
      "text/plain": [
       "<matplotlib.legend.Legend at 0x7fe71c7c91f0>"
      ]
     },
     "execution_count": 16,
     "metadata": {},
     "output_type": "execute_result"
    },
    {
     "data": {
      "image/png": "[encoded data removed]",
      "text/plain": [
       "<Figure size 432x288 with 1 Axes>"
      ]
     },
     "metadata": {
      "needs_background": "light"
     },
     "output_type": "display_data"
    }
   ],
   "source": [
    "import matplotlib.pyplot as plt\n",
    "\n",
    "plt.plot(lrs, regrets_vanilla, label=\"Exp3\")\n",
    "plt.legend()"
   ]
  },
  {
   "cell_type": "code",
   "execution_count": null,
   "id": "76b5e5a8",
   "metadata": {},
   "outputs": [],
   "source": []
  }
 ],
 "metadata": {
  "kernelspec": {
   "display_name": "Python 3 (ipykernel)",
   "language": "python",
   "name": "python3"
  },
  "language_info": {
   "codemirror_mode": {
    "name": "ipython",
    "version": 3
   },
   "file_extension": ".py",
   "mimetype": "text/x-python",
   "name": "python",
   "nbconvert_exporter": "python",
   "pygments_lexer": "ipython3",
   "version": "3.8.11"
  }
 },
 "nbformat": 4,
 "nbformat_minor": 5
}
